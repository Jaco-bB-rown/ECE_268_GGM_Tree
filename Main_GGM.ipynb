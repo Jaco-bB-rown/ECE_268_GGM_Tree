{
 "cells": [
  {
   "cell_type": "markdown",
   "id": "9ba85af6",
   "metadata": {},
   "source": [
    "# GGM Tree Construction\n",
    "Here we will test and evaluate our algorithms against CPU implementations\n"
   ]
  }
 ],
 "metadata": {
  "language_info": {
   "name": "python"
  }
 },
 "nbformat": 4,
 "nbformat_minor": 5
}
